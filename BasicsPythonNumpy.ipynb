{
 "cells": [
  {
   "cell_type": "markdown",
   "id": "6e9d2cc1",
   "metadata": {},
   "source": [
    "## Lab 1 - Foundations of Deep Learning"
   ]
  },
  {
   "cell_type": "code",
   "execution_count": 2,
   "id": "1e1de364",
   "metadata": {},
   "outputs": [],
   "source": [
    "import math\n",
    "import numpy as np"
   ]
  },
  {
   "cell_type": "code",
   "execution_count": 12,
   "id": "c5b4c573",
   "metadata": {},
   "outputs": [],
   "source": [
    "def basic_sigmoid(x):\n",
    "    \"\"\"\n",
    "    Compute sigmoid of x.\n",
    "    \n",
    "    Arguments:\n",
    "    x -- A scalar\n",
    "    \n",
    "    return:\n",
    "    s -- sigmoid(x)\n",
    "    \"\"\"\n",
    "    s=1/(1+math.exp(-x))\n",
    "    return s"
   ]
  },
  {
   "cell_type": "code",
   "execution_count": 13,
   "id": "daf38c14",
   "metadata": {},
   "outputs": [
    {
     "data": {
      "text/plain": [
       "0.2689414213699951"
      ]
     },
     "execution_count": 13,
     "metadata": {},
     "output_type": "execute_result"
    }
   ],
   "source": [
    "basic_sigmoid(-1)"
   ]
  },
  {
   "cell_type": "code",
   "execution_count": 14,
   "id": "e810cbd6",
   "metadata": {},
   "outputs": [
    {
     "name": "stdout",
     "output_type": "stream",
     "text": [
      "[ 2.71828183  7.3890561  20.08553692]\n"
     ]
    }
   ],
   "source": [
    "x=np.array([1,2,3])\n",
    "print(np.exp(x))"
   ]
  },
  {
   "cell_type": "code",
   "execution_count": 15,
   "id": "4f6122e9",
   "metadata": {},
   "outputs": [
    {
     "name": "stdout",
     "output_type": "stream",
     "text": [
      "[4 5 6]\n"
     ]
    }
   ],
   "source": [
    "x=np.array([1,2,3])\n",
    "print(x+3)"
   ]
  },
  {
   "cell_type": "code",
   "execution_count": 16,
   "id": "50e29a8f",
   "metadata": {},
   "outputs": [],
   "source": [
    "import numpy as np\n",
    "def sigmoid(x):\n",
    "    \"\"\"\n",
    "    Compute sigmoid of x.\n",
    "    \n",
    "    Arguments:\n",
    "    x -- A scalar or numpy array of any size\n",
    "    \n",
    "    return:\n",
    "    s -- sigmoid(x)\n",
    "    \"\"\"\n",
    "    \n",
    "    s=1/(1+np.exp(-x))\n",
    "    return s"
   ]
  },
  {
   "cell_type": "code",
   "execution_count": 17,
   "id": "1dc38e4d",
   "metadata": {},
   "outputs": [
    {
     "data": {
      "text/plain": [
       "array([0.73105858, 0.88079708, 0.95257413])"
      ]
     },
     "execution_count": 17,
     "metadata": {},
     "output_type": "execute_result"
    }
   ],
   "source": [
    "x=np.array([1,2,3])\n",
    "sigmoid(x)"
   ]
  },
  {
   "cell_type": "code",
   "execution_count": null,
   "id": "41cdb3d0",
   "metadata": {},
   "outputs": [],
   "source": []
  },
  {
   "cell_type": "code",
   "execution_count": 18,
   "id": "02fbccf9",
   "metadata": {},
   "outputs": [],
   "source": [
    "def image2vector(image):\n",
    "    return image.reshape(-1, 1)"
   ]
  },
  {
   "cell_type": "code",
   "execution_count": 19,
   "id": "6a96a38b",
   "metadata": {},
   "outputs": [
    {
     "data": {
      "text/plain": [
       "array([[  0],\n",
       "       [  0],\n",
       "       [  0],\n",
       "       [255],\n",
       "       [  0],\n",
       "       [  0],\n",
       "       [  0],\n",
       "       [255],\n",
       "       [  0],\n",
       "       [  0],\n",
       "       [  0],\n",
       "       [255],\n",
       "       [255],\n",
       "       [255],\n",
       "       [  0],\n",
       "       [  0],\n",
       "       [255],\n",
       "       [255],\n",
       "       [255],\n",
       "       [  0],\n",
       "       [255],\n",
       "       [192],\n",
       "       [192],\n",
       "       [192],\n",
       "       [128],\n",
       "       [128],\n",
       "       [128]])"
      ]
     },
     "execution_count": 19,
     "metadata": {},
     "output_type": "execute_result"
    }
   ],
   "source": [
    "image = np.array([\n",
    "    [[0, 0, 0], [255, 0, 0], [0, 255, 0]],\n",
    "    [[0, 0, 255], [255, 255, 0], [0, 255, 255]],\n",
    "    [[255, 0, 255], [192, 192, 192], [128, 128, 128]]\n",
    "])\n",
    "\n",
    "image_vector = image2vector(image)\n",
    "image_vector"
   ]
  },
  {
   "cell_type": "code",
   "execution_count": 20,
   "id": "524e8c3f",
   "metadata": {},
   "outputs": [
    {
     "data": {
      "text/plain": [
       "array([[0.26726124, 0.53452248, 0.80178373],\n",
       "       [0.45584231, 0.56980288, 0.68376346],\n",
       "       [0.50257071, 0.57436653, 0.64616234]])"
      ]
     },
     "execution_count": 20,
     "metadata": {},
     "output_type": "execute_result"
    }
   ],
   "source": [
    "def normalizeRows(x):\n",
    "    row_norms = np.linalg.norm(x, axis=1, keepdims=True)\n",
    "    normalized_x = x / row_norms\n",
    "    return normalized_x\n",
    "\n",
    "x = np.array([[1, 2, 3],\n",
    "              [4, 5, 6],\n",
    "              [7, 8, 9]])\n",
    "\n",
    "normalized_x = normalizeRows(x)\n",
    "normalized_x "
   ]
  },
  {
   "cell_type": "code",
   "execution_count": null,
   "id": "9feb80c2",
   "metadata": {},
   "outputs": [],
   "source": []
  },
  {
   "cell_type": "code",
   "execution_count": 25,
   "id": "9ac11e46",
   "metadata": {},
   "outputs": [
    {
     "data": {
      "text/plain": [
       "array([[0.09003057, 0.24472847, 0.66524096],\n",
       "       [0.09003057, 0.24472847, 0.66524096],\n",
       "       [0.09003057, 0.24472847, 0.66524096]])"
      ]
     },
     "execution_count": 25,
     "metadata": {},
     "output_type": "execute_result"
    }
   ],
   "source": [
    "def softmax(x):\n",
    "    x_exp = np.exp(x)\n",
    "    sum_x_exp = np.sum(x_exp, axis=1, keepdims=True)\n",
    "    softmax_x = x_exp / sum_x_exp\n",
    "    return softmax_x\n",
    "\n",
    "x = np.array([[1, 2, 3],\n",
    "              [1, 2, 3],\n",
    "              [1, 2, 3]])\n",
    "\n",
    "softmax_x = softmax(x)\n",
    "softmax_x"
   ]
  },
  {
   "cell_type": "code",
   "execution_count": null,
   "id": "fd2d9cd9",
   "metadata": {},
   "outputs": [],
   "source": []
  },
  {
   "cell_type": "code",
   "execution_count": 29,
   "id": "ba46b4ea",
   "metadata": {},
   "outputs": [
    {
     "name": "stdout",
     "output_type": "stream",
     "text": [
      "Dot product: 25067.749129159656\n",
      "Time taken: 0.0750722885131836 seconds\n",
      "Dot product using NumPy: 25067.749129159638\n",
      "Time taken using NumPy: 0.0780494213104248 seconds\n",
      "Time difference: -0.002977132797241211 seconds\n"
     ]
    }
   ],
   "source": [
    "import time\n",
    "import numpy as np\n",
    "\n",
    "x1 = [9, 2, 5, 0, 0, 7, 5, 0, 0, 0, 9, 2, 5, 0, 0]\n",
    "x2 = [9, 2, 5, 0, 0, 7, 5, 0, 0, 0, 9, 2, 5, 0, 0]\n",
    "\n",
    "x1 = np.random.rand(100000).tolist()\n",
    "x2 = np.random.rand(100000).tolist()\n",
    "\n",
    "dot_product = 0\n",
    "start_time = time.time()\n",
    "for i in range(len(x1)):\n",
    "    dot_product += x1[i] * x2[i]\n",
    "end_time = time.time()\n",
    "\n",
    "elapsed_time_for_loop = end_time - start_time\n",
    "\n",
    "print(\"Dot product:\", dot_product)\n",
    "print(\"Time taken:\", elapsed_time_for_loop, \"seconds\")\n",
    "\n",
    "\n",
    "x1_np = np.array(x1)\n",
    "x2_np = np.array(x2)\n",
    "\n",
    "start_time = time.time()\n",
    "dot_product_np = np.dot(x1_np, x2_np)\n",
    "end_time = time.time()\n",
    "\n",
    "elapsed_time_numpy = end_time - start_time\n",
    "\n",
    "print(\"Dot product using NumPy:\", dot_product_np)\n",
    "print(\"Time taken using NumPy:\", elapsed_time_numpy, \"seconds\")\n",
    "\n",
    "time_difference = elapsed_time_for_loop - elapsed_time_numpy\n",
    "print(\"Time difference:\", time_difference, \"seconds\")"
   ]
  },
  {
   "cell_type": "code",
   "execution_count": 3,
   "id": "a5b35e4d",
   "metadata": {},
   "outputs": [
    {
     "data": {
      "text/plain": [
       "0.1333333333333334"
      ]
     },
     "execution_count": 3,
     "metadata": {},
     "output_type": "execute_result"
    }
   ],
   "source": [
    "def l1_loss(y_true, y_pred):\n",
    "    return np.mean(np.abs(y_true - y_pred))\n",
    "\n",
    "y_true = np.array([1.0, 2.0, 3.0])\n",
    "y_pred = np.array([1.2, 1.9, 3.1])\n",
    "\n",
    "l1 = l1_loss(y_true, y_pred)\n",
    "l1"
   ]
  },
  {
   "cell_type": "code",
   "execution_count": 4,
   "id": "db7f30f7",
   "metadata": {},
   "outputs": [
    {
     "data": {
      "text/plain": [
       "0.020000000000000004"
      ]
     },
     "execution_count": 4,
     "metadata": {},
     "output_type": "execute_result"
    }
   ],
   "source": [
    "def l2_loss(y_true, y_pred):\n",
    "    return np.mean(np.square(y_true - y_pred))\n",
    "\n",
    "y_true = np.array([1.0, 2.0, 3.0])\n",
    "y_pred = np.array([1.2, 1.9, 3.1])\n",
    "\n",
    "l2 = l2_loss(y_true, y_pred)\n",
    "l2"
   ]
  },
  {
   "cell_type": "code",
   "execution_count": null,
   "id": "d50863ae",
   "metadata": {},
   "outputs": [],
   "source": []
  }
 ],
 "metadata": {
  "kernelspec": {
   "display_name": "Python 3",
   "language": "python",
   "name": "python3"
  },
  "language_info": {
   "codemirror_mode": {
    "name": "ipython",
    "version": 3
   },
   "file_extension": ".py",
   "mimetype": "text/x-python",
   "name": "python",
   "nbconvert_exporter": "python",
   "pygments_lexer": "ipython3",
   "version": "3.8.8"
  }
 },
 "nbformat": 4,
 "nbformat_minor": 5
}
